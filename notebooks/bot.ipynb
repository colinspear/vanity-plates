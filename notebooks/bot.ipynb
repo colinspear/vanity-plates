{
 "cells": [
  {
   "cell_type": "code",
   "execution_count": null,
   "metadata": {},
   "outputs": [],
   "source": [
    "# twitter "
   ]
  },
  {
   "cell_type": "code",
   "execution_count": 7,
   "metadata": {},
   "outputs": [],
   "source": [
    "import pandas as pd\n",
    "import numpy as np"
   ]
  },
  {
   "cell_type": "code",
   "execution_count": 2,
   "metadata": {},
   "outputs": [],
   "source": [
    "df = pd.read_csv('ca-license-plates/applications.csv')"
   ]
  },
  {
   "cell_type": "code",
   "execution_count": 3,
   "metadata": {},
   "outputs": [
    {
     "data": {
      "text/html": [
       "<div>\n",
       "<style scoped>\n",
       "    .dataframe tbody tr th:only-of-type {\n",
       "        vertical-align: middle;\n",
       "    }\n",
       "\n",
       "    .dataframe tbody tr th {\n",
       "        vertical-align: top;\n",
       "    }\n",
       "\n",
       "    .dataframe thead th {\n",
       "        text-align: right;\n",
       "    }\n",
       "</style>\n",
       "<table border=\"1\" class=\"dataframe\">\n",
       "  <thead>\n",
       "    <tr style=\"text-align: right;\">\n",
       "      <th></th>\n",
       "      <th>plate</th>\n",
       "      <th>review_reason_code</th>\n",
       "      <th>customer_meaning</th>\n",
       "      <th>reviewer_comments</th>\n",
       "      <th>status</th>\n",
       "    </tr>\n",
       "  </thead>\n",
       "  <tbody>\n",
       "    <tr>\n",
       "      <th>0</th>\n",
       "      <td>AZIZ714</td>\n",
       "      <td>2</td>\n",
       "      <td>LAST NAME</td>\n",
       "      <td>714 AREA CODE</td>\n",
       "      <td>N</td>\n",
       "    </tr>\n",
       "    <tr>\n",
       "      <th>1</th>\n",
       "      <td>BATBOX1</td>\n",
       "      <td>1</td>\n",
       "      <td>BATMOBILE (BATMAN) PLUS SHAPE OF VEHICLE (SCIO...</td>\n",
       "      <td>BOX</td>\n",
       "      <td>N</td>\n",
       "    </tr>\n",
       "    <tr>\n",
       "      <th>2</th>\n",
       "      <td>BBOMBS</td>\n",
       "      <td>2</td>\n",
       "      <td>NO MICRO AVAILABLE</td>\n",
       "      <td>BOMBS</td>\n",
       "      <td>N</td>\n",
       "    </tr>\n",
       "    <tr>\n",
       "      <th>3</th>\n",
       "      <td>BEACHY1</td>\n",
       "      <td>4</td>\n",
       "      <td>LOVE THE BEACH</td>\n",
       "      <td>BEACHY LOOKS LIKE BITCHY 1</td>\n",
       "      <td>N</td>\n",
       "    </tr>\n",
       "    <tr>\n",
       "      <th>4</th>\n",
       "      <td>BLK PWR5</td>\n",
       "      <td>2</td>\n",
       "      <td>STRENGTH OF FAMILY</td>\n",
       "      <td>BLACK POWER</td>\n",
       "      <td>N</td>\n",
       "    </tr>\n",
       "  </tbody>\n",
       "</table>\n",
       "</div>"
      ],
      "text/plain": [
       "      plate review_reason_code  \\\n",
       "0   AZIZ714                  2   \n",
       "1   BATBOX1                  1   \n",
       "2    BBOMBS                  2   \n",
       "3   BEACHY1                  4   \n",
       "4  BLK PWR5                  2   \n",
       "\n",
       "                                    customer_meaning  \\\n",
       "0                                          LAST NAME   \n",
       "1  BATMOBILE (BATMAN) PLUS SHAPE OF VEHICLE (SCIO...   \n",
       "2                                 NO MICRO AVAILABLE   \n",
       "3                                     LOVE THE BEACH   \n",
       "4                                 STRENGTH OF FAMILY   \n",
       "\n",
       "            reviewer_comments status  \n",
       "0               714 AREA CODE      N  \n",
       "1                         BOX      N  \n",
       "2                       BOMBS      N  \n",
       "3  BEACHY LOOKS LIKE BITCHY 1      N  \n",
       "4                 BLACK POWER      N  "
      ]
     },
     "execution_count": 3,
     "metadata": {},
     "output_type": "execute_result"
    }
   ],
   "source": [
    "df.head()"
   ]
  },
  {
   "cell_type": "code",
   "execution_count": 4,
   "metadata": {},
   "outputs": [
    {
     "data": {
      "text/plain": [
       "(23463, 5)"
      ]
     },
     "execution_count": 4,
     "metadata": {},
     "output_type": "execute_result"
    }
   ],
   "source": [
    "df.shape"
   ]
  },
  {
   "cell_type": "code",
   "execution_count": 5,
   "metadata": {},
   "outputs": [],
   "source": [
    "df_n = df.loc[df['status']=='N']"
   ]
  },
  {
   "cell_type": "code",
   "execution_count": 6,
   "metadata": {},
   "outputs": [
    {
     "data": {
      "text/plain": [
       "(18757, 5)"
      ]
     },
     "execution_count": 6,
     "metadata": {},
     "output_type": "execute_result"
    }
   ],
   "source": [
    "df_n.shape"
   ]
  },
  {
   "cell_type": "code",
   "execution_count": 12,
   "metadata": {},
   "outputs": [],
   "source": [
    "row_id = np.random.randint(len(df_n))"
   ]
  },
  {
   "cell_type": "code",
   "execution_count": 13,
   "metadata": {},
   "outputs": [],
   "source": [
    "row = df.iloc[row_id]"
   ]
  },
  {
   "cell_type": "code",
   "execution_count": 17,
   "metadata": {},
   "outputs": [
    {
     "data": {
      "text/plain": [
       "plate                                       DMNDNYL\n",
       "review_reason_code                                3\n",
       "customer_meaning                        DAMN DANIEL\n",
       "reviewer_comments     DAMN, CUSTOMER NAME IS DANIEL\n",
       "status                                            N\n",
       "Name: 4320, dtype: object"
      ]
     },
     "execution_count": 17,
     "metadata": {},
     "output_type": "execute_result"
    }
   ],
   "source": [
    "row"
   ]
  },
  {
   "cell_type": "code",
   "execution_count": 21,
   "metadata": {},
   "outputs": [],
   "source": [
    "tweet = (\n",
    "    f'Californian: Hey DMV, can I have a license plate that says {row[0]}?\\n'\n",
    "    'DMV: Why?\\n'\n",
    "    f'C: Because {row[2]}, duh.\\n'\n",
    "    'DMV: No.\\n'\n",
    "    'C: But why not?!\\n'\n",
    "    f'DMV: Well, because {row[3]}'\n",
    ")"
   ]
  },
  {
   "cell_type": "code",
   "execution_count": 23,
   "metadata": {},
   "outputs": [
    {
     "name": "stdout",
     "output_type": "stream",
     "text": [
      "Californian: Hey DMV, can I have a license plate that says DMNDNYL?\n",
      "DMV: Why?\n",
      "C: Because DAMN DANIEL, duh.\n",
      "DMV: No.\n",
      "C: But why not?!\n",
      "DMV: Well, because DAMN, CUSTOMER NAME IS DANIEL\n"
     ]
    }
   ],
   "source": [
    "print(tweet)"
   ]
  },
  {
   "cell_type": "code",
   "execution_count": 24,
   "metadata": {},
   "outputs": [],
   "source": [
    "import os"
   ]
  },
  {
   "cell_type": "code",
   "execution_count": 26,
   "metadata": {},
   "outputs": [],
   "source": [
    "os.environ['consumer_key'] = 'consumer_key'"
   ]
  },
  {
   "cell_type": "code",
   "execution_count": null,
   "metadata": {},
   "outputs": [],
   "source": [
    "import tweepy\n",
    "import config\n",
    "  \n",
    "# authentication of consumer key and secret \n",
    "auth = tweepy.OAuthHandler(consumer_key, consumer_secret) \n",
    "  \n",
    "# authentication of access token and secret \n",
    "auth.set_access_token(access_token, access_token_secret) \n",
    "api = tweepy.API(auth) \n",
    "  \n",
    "# update the status \n",
    "api.update_status(status=tweet) "
   ]
  }
 ],
 "metadata": {
  "kernelspec": {
   "display_name": "Python 3",
   "language": "python",
   "name": "python3"
  },
  "language_info": {
   "codemirror_mode": {
    "name": "ipython",
    "version": 3
   },
   "file_extension": ".py",
   "mimetype": "text/x-python",
   "name": "python",
   "nbconvert_exporter": "python",
   "pygments_lexer": "ipython3",
   "version": "3.7.6"
  }
 },
 "nbformat": 4,
 "nbformat_minor": 4
}
